{
 "cells": [
  {
   "cell_type": "code",
   "execution_count": 1,
   "metadata": {
    "collapsed": true,
    "colab": {
     "base_uri": "https://localhost:8080/",
     "height": 364
    },
    "id": "k2gbDgLutnbz",
    "outputId": "b4453830-177e-411a-86e8-96ad6cc52f9a",
    "ExecuteTime": {
     "end_time": "2023-06-02T01:36:25.771817Z",
     "start_time": "2023-06-02T01:36:21.905010Z"
    }
   },
   "outputs": [
    {
     "data": {
      "text/plain": "   label  pixel0  pixel1  pixel2  pixel3  pixel4  pixel5  pixel6  pixel7  \\\n0      1       0       0       0       0       0       0       0       0   \n1      0       0       0       0       0       0       0       0       0   \n2      1       0       0       0       0       0       0       0       0   \n3      4       0       0       0       0       0       0       0       0   \n4      0       0       0       0       0       0       0       0       0   \n\n   pixel8  ...  pixel774  pixel775  pixel776  pixel777  pixel778  pixel779  \\\n0       0  ...         0         0         0         0         0         0   \n1       0  ...         0         0         0         0         0         0   \n2       0  ...         0         0         0         0         0         0   \n3       0  ...         0         0         0         0         0         0   \n4       0  ...         0         0         0         0         0         0   \n\n   pixel780  pixel781  pixel782  pixel783  \n0         0         0         0         0  \n1         0         0         0         0  \n2         0         0         0         0  \n3         0         0         0         0  \n4         0         0         0         0  \n\n[5 rows x 785 columns]",
      "text/html": "<div>\n<style scoped>\n    .dataframe tbody tr th:only-of-type {\n        vertical-align: middle;\n    }\n\n    .dataframe tbody tr th {\n        vertical-align: top;\n    }\n\n    .dataframe thead th {\n        text-align: right;\n    }\n</style>\n<table border=\"1\" class=\"dataframe\">\n  <thead>\n    <tr style=\"text-align: right;\">\n      <th></th>\n      <th>label</th>\n      <th>pixel0</th>\n      <th>pixel1</th>\n      <th>pixel2</th>\n      <th>pixel3</th>\n      <th>pixel4</th>\n      <th>pixel5</th>\n      <th>pixel6</th>\n      <th>pixel7</th>\n      <th>pixel8</th>\n      <th>...</th>\n      <th>pixel774</th>\n      <th>pixel775</th>\n      <th>pixel776</th>\n      <th>pixel777</th>\n      <th>pixel778</th>\n      <th>pixel779</th>\n      <th>pixel780</th>\n      <th>pixel781</th>\n      <th>pixel782</th>\n      <th>pixel783</th>\n    </tr>\n  </thead>\n  <tbody>\n    <tr>\n      <th>0</th>\n      <td>1</td>\n      <td>0</td>\n      <td>0</td>\n      <td>0</td>\n      <td>0</td>\n      <td>0</td>\n      <td>0</td>\n      <td>0</td>\n      <td>0</td>\n      <td>0</td>\n      <td>...</td>\n      <td>0</td>\n      <td>0</td>\n      <td>0</td>\n      <td>0</td>\n      <td>0</td>\n      <td>0</td>\n      <td>0</td>\n      <td>0</td>\n      <td>0</td>\n      <td>0</td>\n    </tr>\n    <tr>\n      <th>1</th>\n      <td>0</td>\n      <td>0</td>\n      <td>0</td>\n      <td>0</td>\n      <td>0</td>\n      <td>0</td>\n      <td>0</td>\n      <td>0</td>\n      <td>0</td>\n      <td>0</td>\n      <td>...</td>\n      <td>0</td>\n      <td>0</td>\n      <td>0</td>\n      <td>0</td>\n      <td>0</td>\n      <td>0</td>\n      <td>0</td>\n      <td>0</td>\n      <td>0</td>\n      <td>0</td>\n    </tr>\n    <tr>\n      <th>2</th>\n      <td>1</td>\n      <td>0</td>\n      <td>0</td>\n      <td>0</td>\n      <td>0</td>\n      <td>0</td>\n      <td>0</td>\n      <td>0</td>\n      <td>0</td>\n      <td>0</td>\n      <td>...</td>\n      <td>0</td>\n      <td>0</td>\n      <td>0</td>\n      <td>0</td>\n      <td>0</td>\n      <td>0</td>\n      <td>0</td>\n      <td>0</td>\n      <td>0</td>\n      <td>0</td>\n    </tr>\n    <tr>\n      <th>3</th>\n      <td>4</td>\n      <td>0</td>\n      <td>0</td>\n      <td>0</td>\n      <td>0</td>\n      <td>0</td>\n      <td>0</td>\n      <td>0</td>\n      <td>0</td>\n      <td>0</td>\n      <td>...</td>\n      <td>0</td>\n      <td>0</td>\n      <td>0</td>\n      <td>0</td>\n      <td>0</td>\n      <td>0</td>\n      <td>0</td>\n      <td>0</td>\n      <td>0</td>\n      <td>0</td>\n    </tr>\n    <tr>\n      <th>4</th>\n      <td>0</td>\n      <td>0</td>\n      <td>0</td>\n      <td>0</td>\n      <td>0</td>\n      <td>0</td>\n      <td>0</td>\n      <td>0</td>\n      <td>0</td>\n      <td>0</td>\n      <td>...</td>\n      <td>0</td>\n      <td>0</td>\n      <td>0</td>\n      <td>0</td>\n      <td>0</td>\n      <td>0</td>\n      <td>0</td>\n      <td>0</td>\n      <td>0</td>\n      <td>0</td>\n    </tr>\n  </tbody>\n</table>\n<p>5 rows × 785 columns</p>\n</div>"
     },
     "execution_count": 1,
     "metadata": {},
     "output_type": "execute_result"
    }
   ],
   "source": [
    "import numpy as np\n",
    "import pandas as pd\n",
    "from matplotlib import pyplot as plt\n",
    "\n",
    "data = pd.read_csv('Data/train.csv') # Loads in the training data\n",
    "data.head(5)"
   ]
  },
  {
   "cell_type": "markdown",
   "source": [
    "---\n",
    "---\n",
    "<br>\n",
    "\n",
    "# **Introduction**\n",
    "This notebook was inspired by and modeled after one created by Samson Zhang, found [here](https://www.kaggle.com/code/wwsalmon/simple-mnist-nn-from-scratch-numpy-no-tf-keras/notebook). I have added additional features and made some modifications to improve performance. Notably, I have significantly expanded on and edited the accompanying text to increase clarity.\n",
    "\n",
    "The MNIST dataset is from Kaggle, found [here](https://www.kaggle.com/c/digit-recognizer).\n",
    "<br>\n",
    "<br>\n",
    "\n",
    "---\n",
    "---\n",
    "<br>"
   ],
   "metadata": {
    "collapsed": false,
    "id": "TQTOzEwgtnb1"
   }
  },
  {
   "cell_type": "code",
   "execution_count": 2,
   "outputs": [],
   "source": [
    "data = np.array(data)\n",
    "m, n = data.shape # Assigns dimension values to m and n\n",
    "np.random.shuffle(data) # Shuffles the data to prevent overfitting\n",
    "\n",
    "validation_data = data[0:1000].T # Grabs the first 1000 columns of the dataset\n",
    "Y_validation = validation_data[0] # Creates a vector of the target variables, or \"correct digits\"\n",
    "X_validation = validation_data[1:, :]\n",
    "X_validation= X_validation / 255.0\n",
    "\n",
    "training_data = data[1000:m].T\n",
    "Y_training = training_data[0]\n",
    "X_training = training_data[1:n]\n",
    "X_training = X_training / 255.0\n",
    "_,m_training = X_training.shape"
   ],
   "metadata": {
    "id": "AiOGvYJftnb3",
    "ExecuteTime": {
     "end_time": "2023-06-02T01:36:27.338627Z",
     "start_time": "2023-06-02T01:36:25.772319Z"
    }
   }
  },
  {
   "cell_type": "code",
   "execution_count": 3,
   "outputs": [],
   "source": [
    "def initialize_parameters():\n",
    "    W1 = np.random.rand(10, 784) - 0.5\n",
    "    b1 = np.random.rand(10, 1) - 0.5\n",
    "    W2 = np.random.rand(10, 10) - 0.5\n",
    "    b2 = np.random.rand(10, 1) - 0.5\n",
    "    return W1, b1, W2, b2"
   ],
   "metadata": {
    "id": "kbR4s0jqtnb4",
    "ExecuteTime": {
     "end_time": "2023-06-02T01:36:27.342081Z",
     "start_time": "2023-06-02T01:36:27.338935Z"
    }
   }
  },
  {
   "cell_type": "code",
   "execution_count": 4,
   "outputs": [],
   "source": [
    "def ReLU(Z):\n",
    "    return np.maximum(Z, 0)\n",
    "\n",
    "def softmax(Z):\n",
    "    return np.exp(Z) / sum(np.exp(Z))\n",
    "\n",
    "def forward_propagation(W1, b1, W2, b2, X):\n",
    "    Z1 = W1.dot(X) + b1\n",
    "    A1 = ReLU(Z1)\n",
    "    Z2 = W2.dot(A1) + b2\n",
    "    A2 = softmax(Z2)\n",
    "    return Z1, A1, Z2, A2"
   ],
   "metadata": {
    "id": "pyce7amctnb5",
    "ExecuteTime": {
     "end_time": "2023-06-02T01:36:27.348319Z",
     "start_time": "2023-06-02T01:36:27.342708Z"
    }
   }
  },
  {
   "cell_type": "code",
   "execution_count": 5,
   "outputs": [],
   "source": [
    "def one_hot_encode(Y):\n",
    "    one_hot_Y = np.zeros((Y.size, Y.max() + 1))\n",
    "    one_hot_Y[np.arange(Y.size), Y] = 1\n",
    "    one_hot_Y = one_hot_Y.T\n",
    "    return one_hot_Y\n",
    "\n",
    "def deriv_ReLU(Z):\n",
    "    return Z > 0\n",
    "\n",
    "def backpropagation(Z1, A1, A2, W2, X, Y):\n",
    "    m = Y.size\n",
    "    one_hot_Y = one_hot_encode(Y)\n",
    "    dZ2 = A2 - one_hot_Y # Derivative of the loss function w.r.t the pre-activation values of the output layer\n",
    "    dW2 = dZ2.dot(A1.T) / m\n",
    "    db2 = np.sum(dZ2, axis=1, keepdims=True) / m\n",
    "    dZ1 = W2.T.dot(dZ2) * deriv_ReLU(Z1) # Derivative of the loss function w.r.t. the pre-activation values of the output layer\n",
    "    dW1 = dZ1.dot(X.T) / m\n",
    "    db1 = np.sum(dZ1, axis=1, keepdims=True) / m\n",
    "\n",
    "    return dW1, db1, dW2, db2"
   ],
   "metadata": {
    "id": "sg0WBZl9tnb6",
    "ExecuteTime": {
     "end_time": "2023-06-02T01:36:27.357223Z",
     "start_time": "2023-06-02T01:36:27.354277Z"
    }
   }
  },
  {
   "cell_type": "code",
   "execution_count": 6,
   "outputs": [],
   "source": [
    "def get_predictions(A2):\n",
    "    return np.argmax(A2, 0)\n",
    "\n",
    "def get_accuracy(predictions, Y):\n",
    "    return np.sum(predictions == Y) / Y.size\n",
    "\n",
    "def update_param(W1, b1, W2, b2, dW1, db1, dW2, db2, alpha):\n",
    "    W1 = W1 - alpha * dW1\n",
    "    b1 = b1 - alpha * db1\n",
    "    W2 = W2 - alpha * dW2\n",
    "    b2 = b2 - alpha * db2\n",
    "    return W1, b1, W2, b2\n",
    "\n",
    "def gradient_descent(X, Y, iterations, alpha):\n",
    "    W1, b1, W2, b2 = initialize_parameters()\n",
    "    for i in range(iterations):\n",
    "        Z1, A1, Z2, A2 = forward_propagation(W1, b1, W2, b2, X)\n",
    "        dW1, db1, dW2, db2 = backpropagation(Z1, A1, A2, W2, X, Y)\n",
    "        W1, b1, W2, b2 = update_param(W1, b1, W2, b2, dW1, db1, dW2, db2, alpha)\n",
    "\n",
    "        if i % 100 == 0: # Print the progress every 100 iterations\n",
    "            one_hot_Y = one_hot_encode(Y)\n",
    "            cost = -np.sum(one_hot_Y * np.log(A2)) / m\n",
    "            predictions = get_predictions(A2)\n",
    "            accuracy_percent = get_accuracy(predictions, Y) * 100\n",
    "\n",
    "            print(f'Iteration: {i}')\n",
    "            print(f'Accuracy: {accuracy_percent:.3f}%')\n",
    "            print(f'Cost: {cost:,.3f}\\n')\n",
    "\n",
    "    return W1, b1, W2, b2\n",
    "\n",
    "def make_predictions(X, W1, b1, W2, b2):\n",
    "    _, _, _, A2 = forward_propagation(W1, b1, W2, b2, X)\n",
    "    predictions = get_predictions(A2)\n",
    "    return predictions\n",
    "\n",
    "def test_prediction(index, W1, b1, W2, b2):\n",
    "    current_image = X_training[:, index, None]\n",
    "    prediction = make_predictions(X_training[:, index, None], W1, b1, W2, b2)\n",
    "    label = Y_training[index]\n",
    "\n",
    "    is_correct = prediction == label\n",
    "    return current_image, prediction, label, is_correct\n",
    "\n",
    "def display_predictions(n, W1, b1, W2, b2, display_correct=True):\n",
    "    predictions = []\n",
    "    count = 0\n",
    "    while count < n:\n",
    "        random_index = np.random.randint(0, X_training.shape[1])\n",
    "        current_image, prediction, label, is_correct = test_prediction(random_index, W1, b1, W2, b2)\n",
    "        if is_correct == display_correct:\n",
    "            predictions.append((prediction, label, current_image))\n",
    "            count += 1\n",
    "\n",
    "    fig, axes = plt.subplots(nrows=2, ncols=5, figsize=(15, 6))\n",
    "\n",
    "    for i, (prediction, label, img) in enumerate(predictions):\n",
    "        row = i // 5\n",
    "        col = i % 5\n",
    "        axes[row, col].imshow(img.reshape((28, 28)) * 255, cmap='gray')\n",
    "        axes[row, col].set_title(f\"Prediction: {prediction}\\nTrue Label: {label}\")\n",
    "        axes[row, col].axis('off')\n",
    "\n",
    "    if display_correct:\n",
    "        print('Correct Predictions:\\n')\n",
    "    else:\n",
    "        print('Incorrect Predictions:\\n')\n",
    "\n",
    "    plt.tight_layout()\n",
    "    plt.show()\n",
    "\n",
    "def graph_data(data):\n",
    "    pass"
   ],
   "metadata": {
    "id": "TVQ0m7Satnb7",
    "ExecuteTime": {
     "end_time": "2023-06-02T01:36:27.376403Z",
     "start_time": "2023-06-02T01:36:27.371472Z"
    }
   }
  },
  {
   "cell_type": "code",
   "execution_count": 7,
   "outputs": [
    {
     "ename": "TypeError",
     "evalue": "gradient_descent() missing 1 required positional argument: 'alpha'",
     "output_type": "error",
     "traceback": [
      "\u001B[0;31m---------------------------------------------------------------------------\u001B[0m",
      "\u001B[0;31mTypeError\u001B[0m                                 Traceback (most recent call last)",
      "Cell \u001B[0;32mIn[7], line 2\u001B[0m\n\u001B[1;32m      1\u001B[0m \u001B[38;5;66;03m# Train the model with the training data\u001B[39;00m\n\u001B[0;32m----> 2\u001B[0m W1, b1, W2, b2 \u001B[38;5;241m=\u001B[39m \u001B[43mgradient_descent\u001B[49m\u001B[43m(\u001B[49m\u001B[43mX_training\u001B[49m\u001B[43m,\u001B[49m\u001B[43m \u001B[49m\u001B[43mY_training\u001B[49m\u001B[43m,\u001B[49m\u001B[43m \u001B[49m\u001B[38;5;241;43m500\u001B[39;49m\u001B[43m,\u001B[49m\u001B[43m \u001B[49m\u001B[38;5;241;43m0.25\u001B[39;49m\u001B[43m)\u001B[49m\n",
      "\u001B[0;31mTypeError\u001B[0m: gradient_descent() missing 1 required positional argument: 'alpha'"
     ]
    }
   ],
   "source": [
    "# Train the model with the training data\n",
    "W1, b1, W2, b2 = gradient_descent(X_training, Y_training, 500, 0.25)"
   ],
   "metadata": {
    "id": "Yx7HFUqQtnb7",
    "ExecuteTime": {
     "end_time": "2023-06-02T01:36:27.834633Z",
     "start_time": "2023-06-02T01:36:27.376663Z"
    }
   }
  },
  {
   "cell_type": "code",
   "execution_count": null,
   "outputs": [],
   "source": [
    "# Run the model with the validation data\n",
    "validation_predictions = make_predictions(X_validation, W1, b1, W2, b2)\n",
    "validation_accuracy_percent = get_accuracy(validation_predictions, Y_validation) * 100\n",
    "print(f'Validation Data Accuracy: {validation_accuracy_percent:.3f}%\\n')\n",
    "\n",
    "# Display 10 random correct predictions\n",
    "display_predictions(10, W1, b1, W2, b2)\n",
    "\n",
    "# Display 10 random incorrect predictions\n",
    "display_predictions(10, W1, b1, W2, b2, display_correct=False)"
   ],
   "metadata": {
    "id": "tFuWcEnQtnb7",
    "ExecuteTime": {
     "start_time": "2023-06-02T01:36:27.834461Z"
    }
   }
  }
 ],
 "metadata": {
  "kernelspec": {
   "display_name": "Python 3",
   "language": "python",
   "name": "python3"
  },
  "language_info": {
   "codemirror_mode": {
    "name": "ipython",
    "version": 2
   },
   "file_extension": ".py",
   "mimetype": "text/x-python",
   "name": "python",
   "nbconvert_exporter": "python",
   "pygments_lexer": "ipython2",
   "version": "2.7.6"
  },
  "colab": {
   "provenance": []
  }
 },
 "nbformat": 4,
 "nbformat_minor": 0
}
